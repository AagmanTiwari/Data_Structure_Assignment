{
 "cells": [
  {
   "cell_type": "code",
   "execution_count": 1,
   "id": "997c1d97-80e6-474d-bd20-9f186312c4ce",
   "metadata": {},
   "outputs": [],
   "source": [
    " # 01 Discuss string slicing and provide example.\n",
    "\n",
    "#extracts substrings by specifying a range of indices using the syntax string[start:stop:step].\n",
    "#It allows you to access or manipulate parts of the string efficiently.\n",
    "#We can define start, stop, and step values, and it supports reversing the string or selecting characters at intervals."
   ]
  },
  {
   "cell_type": "code",
   "execution_count": 2,
   "id": "61ea6479-3f3c-4c0c-8545-2834616613a0",
   "metadata": {},
   "outputs": [
    {
     "data": {
      "text/plain": [
       "'.namgaa si eman yM'"
      ]
     },
     "execution_count": 2,
     "metadata": {},
     "output_type": "execute_result"
    }
   ],
   "source": [
    "string_1 = \"My name is aagman.\"\n",
    "# iterate a string in reverse order [::-1]\n",
    "string_1[::-1]"
   ]
  },
  {
   "cell_type": "code",
   "execution_count": 3,
   "id": "711c6a6c-340b-4004-b8fc-1005600a81e2",
   "metadata": {},
   "outputs": [
    {
     "data": {
      "text/plain": [
       "'My name '"
      ]
     },
     "execution_count": 3,
     "metadata": {},
     "output_type": "execute_result"
    }
   ],
   "source": [
    "string_1[:8] # '8' will be exclusive it will not be included "
   ]
  },
  {
   "cell_type": "code",
   "execution_count": 4,
   "id": "76afa787-adae-43af-b27d-a59854be71a6",
   "metadata": {},
   "outputs": [],
   "source": [
    "# 02 Explain the key features of list in python.\n",
    "\n",
    "## list are ordered collection of items\n",
    "# it is denoted by square bracket -->> []\n",
    "# list is like shopping bag \n",
    "# it can store any data type\n",
    "# list are mutable"
   ]
  },
  {
   "cell_type": "code",
   "execution_count": 6,
   "id": "28adf1be-47c0-4cd4-9e25-f134df70cb7f",
   "metadata": {},
   "outputs": [
    {
     "data": {
      "text/plain": [
       "['milk', 'orange', 1, 2, True, (3+5j)]"
      ]
     },
     "execution_count": 6,
     "metadata": {},
     "output_type": "execute_result"
    }
   ],
   "source": [
    "grocery_list =  [\"milk\",\"orange\",1,2,True,3+5j]\n",
    "grocery_list"
   ]
  },
  {
   "cell_type": "code",
   "execution_count": 7,
   "id": "0408ff93-0f45-4d80-976f-530517b96257",
   "metadata": {},
   "outputs": [],
   "source": [
    "lis = [\"mango\",\"banana\",\"apple\",\"orange\"]\n",
    "#lis.insert(index, object, /)\n",
    "lis.insert(1,\"kiwi\")\n",
    "# Insert object before index."
   ]
  },
  {
   "cell_type": "code",
   "execution_count": 8,
   "id": "f8f7afc5-b70a-4b1b-a003-900e43881052",
   "metadata": {},
   "outputs": [
    {
     "data": {
      "text/plain": [
       "['mango', 'kiwi', 'banana', 'apple', 'orange']"
      ]
     },
     "execution_count": 8,
     "metadata": {},
     "output_type": "execute_result"
    }
   ],
   "source": [
    "lis"
   ]
  },
  {
   "cell_type": "code",
   "execution_count": 9,
   "id": "c14e1502-2224-4a1b-89e6-c212d4f664d6",
   "metadata": {},
   "outputs": [],
   "source": [
    "# extend -->> used to append elements from another list\n",
    "my_list = [\"apple\",\"banana\",\"mango\"]\n",
    "bro_list = [\"potato\",\"ginger\"]\n",
    "my_list.extend(bro_list)"
   ]
  },
  {
   "cell_type": "code",
   "execution_count": 16,
   "id": "15e86ae1-29a0-44a0-bd23-83da1b894e4e",
   "metadata": {},
   "outputs": [
    {
     "name": "stdout",
     "output_type": "stream",
     "text": [
      "['apple', 'banana', 'mango', 'potato', 'ginger']\n",
      "['potato', 'ginger']\n"
     ]
    }
   ],
   "source": [
    "#my list got extended but bro list remains same.\n",
    "print(my_list)\n",
    "print(bro_list)"
   ]
  },
  {
   "cell_type": "code",
   "execution_count": 11,
   "id": "f1f3363b-880f-455f-b73f-1e6ede094726",
   "metadata": {},
   "outputs": [],
   "source": [
    "# list comprehension --> it is used to write concise code(less line of code)\n",
    "# if we want to double the price of prices then we can do it in 2 ways.\n",
    "# 1st way(method)\n",
    "prices = [10,20,30.,40]\n",
    "doubled_price = []\n",
    "for i in prices:\n",
    "    doubled_price.append(i*2)"
   ]
  },
  {
   "cell_type": "code",
   "execution_count": 12,
   "id": "94bd2ea2-62a7-49ba-a7c9-ab66cb8e50ce",
   "metadata": {},
   "outputs": [
    {
     "data": {
      "text/plain": [
       "[20, 40, 60.0, 80]"
      ]
     },
     "execution_count": 12,
     "metadata": {},
     "output_type": "execute_result"
    }
   ],
   "source": [
    "doubled_price"
   ]
  },
  {
   "cell_type": "code",
   "execution_count": 15,
   "id": "71f9c89b-bda8-4526-a508-1a986b0bfa3b",
   "metadata": {},
   "outputs": [
    {
     "data": {
      "text/plain": [
       "[20, 40, 60.0, 80]"
      ]
     },
     "execution_count": 15,
     "metadata": {},
     "output_type": "execute_result"
    }
   ],
   "source": [
    "# second way using list comprehension\n",
    "doubled_price = [price * 2 for price in prices]\n",
    "doubled_price"
   ]
  },
  {
   "cell_type": "code",
   "execution_count": 18,
   "id": "bb8fe887-795a-4eae-b31b-b8f98bd35f99",
   "metadata": {},
   "outputs": [
    {
     "data": {
      "text/plain": [
       "'Aagman'"
      ]
     },
     "execution_count": 18,
     "metadata": {},
     "output_type": "execute_result"
    }
   ],
   "source": [
    "# 03 Describe how to modify, access and delete element in a list with example.\n",
    "\n",
    "#Accessing the elements of list\n",
    "lis = [\"Aagman\",\"abc\",1,2,3,4]\n",
    "lis[0] # accessing the element having zero index\n"
   ]
  },
  {
   "cell_type": "code",
   "execution_count": 19,
   "id": "5eb1c5ab-01f7-4675-b85e-272f0b7114a7",
   "metadata": {},
   "outputs": [
    {
     "data": {
      "text/plain": [
       "['Akshat', 'abc', 1, 2, 3, 4]"
      ]
     },
     "execution_count": 19,
     "metadata": {},
     "output_type": "execute_result"
    }
   ],
   "source": [
    "# modifying the elements in list\n",
    "lis[0] = \"Akshat\"\n",
    "lis"
   ]
  },
  {
   "cell_type": "code",
   "execution_count": 20,
   "id": "f41b90ac-92f4-4571-89b3-5a11bff6bf6a",
   "metadata": {},
   "outputs": [
    {
     "data": {
      "text/plain": [
       "['Akshat', 'abc', 1, 3, 4]"
      ]
     },
     "execution_count": 20,
     "metadata": {},
     "output_type": "execute_result"
    }
   ],
   "source": [
    "# deleting the element in a list\n",
    "del lis[3]\n",
    "lis"
   ]
  },
  {
   "cell_type": "code",
   "execution_count": 23,
   "id": "1bcabcf0-6a11-4fa8-a716-0ae45c86ac2c",
   "metadata": {},
   "outputs": [
    {
     "data": {
      "text/plain": [
       "['Akshat', 'abc', 1]"
      ]
     },
     "execution_count": 23,
     "metadata": {},
     "output_type": "execute_result"
    }
   ],
   "source": [
    "# or using remove method\n",
    "lis.remove(4)\n",
    "lis"
   ]
  },
  {
   "cell_type": "code",
   "execution_count": 24,
   "id": "99a78cfd-a41d-4a1d-93d7-280011c49cc8",
   "metadata": {},
   "outputs": [],
   "source": [
    "# 04 Compare and contrast tuples and list with example.\n",
    "\n",
    "# Syntax: Tuples (), Lists []\n",
    "# Mutability: Tuples are immutable, Lists are mutable\n",
    "# Use Case: Tuples for fixed data, Lists for frequently updated data\n",
    "# Performance: Tuples are faster; Lists are slower\n",
    "# Methods: Tuples have limited methods; Lists have many\n",
    "# Memory: Tuples use less memory; Lists use more\n",
    "\n"
   ]
  },
  {
   "cell_type": "code",
   "execution_count": 25,
   "id": "b8d9f6fd-8cb3-41c7-b5b8-8536afb4503f",
   "metadata": {},
   "outputs": [
    {
     "data": {
      "text/plain": [
       "tuple"
      ]
     },
     "execution_count": 25,
     "metadata": {},
     "output_type": "execute_result"
    }
   ],
   "source": [
    "t = ()\n",
    "type(t)"
   ]
  },
  {
   "cell_type": "code",
   "execution_count": 26,
   "id": "6c5ff84d-bb76-4da1-9aa9-3791f2459ee4",
   "metadata": {},
   "outputs": [
    {
     "data": {
      "text/plain": [
       "list"
      ]
     },
     "execution_count": 26,
     "metadata": {},
     "output_type": "execute_result"
    }
   ],
   "source": [
    "lis = []\n",
    "type(lis)"
   ]
  },
  {
   "cell_type": "code",
   "execution_count": 27,
   "id": "951f20c0-a4b3-4970-9ca0-40258ea8ad3e",
   "metadata": {},
   "outputs": [
    {
     "ename": "TypeError",
     "evalue": "'tuple' object does not support item assignment",
     "output_type": "error",
     "traceback": [
      "\u001b[1;31m---------------------------------------------------------------------------\u001b[0m",
      "\u001b[1;31mTypeError\u001b[0m                                 Traceback (most recent call last)",
      "Cell \u001b[1;32mIn[27], line 3\u001b[0m\n\u001b[0;32m      1\u001b[0m t \u001b[38;5;241m=\u001b[39m (\u001b[38;5;124m\"\u001b[39m\u001b[38;5;124mAagman\u001b[39m\u001b[38;5;124m\"\u001b[39m,\u001b[38;5;124m\"\u001b[39m\u001b[38;5;124mabc\u001b[39m\u001b[38;5;124m\"\u001b[39m,\u001b[38;5;241m2\u001b[39m,\u001b[38;5;241m3\u001b[39m,\u001b[38;5;241m4.5\u001b[39m,\u001b[38;5;28;01mTrue\u001b[39;00m,\u001b[38;5;241m3\u001b[39m\u001b[38;5;241m+\u001b[39m\u001b[38;5;241m5\u001b[39mj)\n\u001b[0;32m      2\u001b[0m \u001b[38;5;66;03m# Tuples are immutable \u001b[39;00m\n\u001b[1;32m----> 3\u001b[0m \u001b[43mt\u001b[49m\u001b[43m[\u001b[49m\u001b[38;5;241;43m0\u001b[39;49m\u001b[43m]\u001b[49m \u001b[38;5;241m=\u001b[39m \u001b[38;5;124m\"\u001b[39m\u001b[38;5;124maa\u001b[39m\u001b[38;5;124m\"\u001b[39m\n",
      "\u001b[1;31mTypeError\u001b[0m: 'tuple' object does not support item assignment"
     ]
    }
   ],
   "source": [
    "t = (\"Aagman\",\"abc\",2,3,4.5,True,3+5j)\n",
    "# Tuples are immutable \n",
    "t[0] = \"aa\""
   ]
  },
  {
   "cell_type": "code",
   "execution_count": 28,
   "id": "b710a532-f36c-426b-9d9b-089ee0ee8b90",
   "metadata": {},
   "outputs": [
    {
     "data": {
      "text/plain": [
       "('Aagman', 'abc', 2, 3, 4.5, True, (3+5j))"
      ]
     },
     "execution_count": 28,
     "metadata": {},
     "output_type": "execute_result"
    }
   ],
   "source": [
    "t"
   ]
  },
  {
   "cell_type": "code",
   "execution_count": 29,
   "id": "5d3bd434-d052-4462-a2ba-121d303943a8",
   "metadata": {},
   "outputs": [],
   "source": [
    "# 05 Describe the key feature of set and provide examples of there use.\n",
    "\n",
    "# sets are unordered and unique collection of elements.\n",
    "# it dosnt allow duplicate elements.\n",
    "# unordered ---> indexing will not work.\n",
    "# it is denoted by ---> {} (if it doesnot contain key value pairs.)"
   ]
  },
  {
   "cell_type": "code",
   "execution_count": 30,
   "id": "a2514bfc-56f3-4201-baaf-b47865699988",
   "metadata": {},
   "outputs": [
    {
     "name": "stdout",
     "output_type": "stream",
     "text": [
      "<class 'dict'>\n",
      "<class 'set'>\n"
     ]
    }
   ],
   "source": [
    "s = {}\n",
    "print(type(s))\n",
    "s = {1}\n",
    "print(type(s))"
   ]
  },
  {
   "cell_type": "code",
   "execution_count": 31,
   "id": "73c8d9bc-33cd-49d2-b758-29ae4d56c01b",
   "metadata": {},
   "outputs": [
    {
     "data": {
      "text/plain": [
       "{1, 2, 3, 'apple', 'banana', 'mango'}"
      ]
     },
     "execution_count": 31,
     "metadata": {},
     "output_type": "execute_result"
    }
   ],
   "source": [
    "# convert list to set.\n",
    "shopping_list = [1,2,3,2,\"apple\",\"apple\",\"banana\",\"mango\",\"mango\"]\n",
    "s = set(shopping_list)\n",
    "s"
   ]
  },
  {
   "cell_type": "code",
   "execution_count": 32,
   "id": "00acd0fa-f951-49fa-bb39-d0e00f6e005c",
   "metadata": {},
   "outputs": [
    {
     "name": "stdout",
     "output_type": "stream",
     "text": [
      "1\n",
      "apple\n",
      "2\n",
      "3\n",
      "mango\n",
      "banana\n"
     ]
    }
   ],
   "source": [
    "# we can not do slicing in SET\n",
    "# but we can run loop in SET \n",
    "for i in s:\n",
    "    print(i)"
   ]
  },
  {
   "cell_type": "code",
   "execution_count": 33,
   "id": "c3ee117f-300d-4dac-a05d-62ad381ae65e",
   "metadata": {},
   "outputs": [
    {
     "data": {
      "text/plain": [
       "{1, 2, 3, 'AA', 'apple', 'banana', 'mango'}"
      ]
     },
     "execution_count": 33,
     "metadata": {},
     "output_type": "execute_result"
    }
   ],
   "source": [
    "# set is mutable \n",
    "s.add(\"AA\")\n",
    "s"
   ]
  },
  {
   "cell_type": "code",
   "execution_count": 34,
   "id": "6b8ef3ac-301f-40cc-9f9b-677ba812d3a1",
   "metadata": {},
   "outputs": [],
   "source": [
    "# FROZEN sets  ---> immutable version of set\n",
    "# we can not add or remove elements from the frozen set\n"
   ]
  },
  {
   "cell_type": "code",
   "execution_count": 35,
   "id": "85daf4c8-f50c-4571-9021-3817fa7a4118",
   "metadata": {},
   "outputs": [
    {
     "data": {
      "text/plain": [
       "frozenset({1, 3, 4, 5, 22})"
      ]
     },
     "execution_count": 35,
     "metadata": {},
     "output_type": "execute_result"
    }
   ],
   "source": [
    "#frozenset([])\n",
    "my_fs = frozenset([1,1,22,3,3,4,4,4,4,5,5])\n",
    "my_fs"
   ]
  },
  {
   "cell_type": "code",
   "execution_count": 36,
   "id": "f6c529c3-b857-41c0-90cd-fc6a26acf46f",
   "metadata": {},
   "outputs": [
    {
     "ename": "AttributeError",
     "evalue": "'frozenset' object has no attribute 'pop'",
     "output_type": "error",
     "traceback": [
      "\u001b[1;31m---------------------------------------------------------------------------\u001b[0m",
      "\u001b[1;31mAttributeError\u001b[0m                            Traceback (most recent call last)",
      "Cell \u001b[1;32mIn[36], line 1\u001b[0m\n\u001b[1;32m----> 1\u001b[0m \u001b[43mmy_fs\u001b[49m\u001b[38;5;241;43m.\u001b[39;49m\u001b[43mpop\u001b[49m() \u001b[38;5;66;03m# it will show an error\u001b[39;00m\n",
      "\u001b[1;31mAttributeError\u001b[0m: 'frozenset' object has no attribute 'pop'"
     ]
    }
   ],
   "source": [
    "my_fs.pop() # it will show an error"
   ]
  },
  {
   "cell_type": "code",
   "execution_count": 37,
   "id": "2c9063b3-550c-477f-9710-8aa2685ec626",
   "metadata": {},
   "outputs": [],
   "source": [
    "# 06 Discuss the use cases of tuples and set in python programming."
   ]
  },
  {
   "cell_type": "code",
   "execution_count": 38,
   "id": "c80fadb0-109b-4b06-a883-99690703e3dc",
   "metadata": {},
   "outputs": [
    {
     "ename": "TypeError",
     "evalue": "'tuple' object does not support item assignment",
     "output_type": "error",
     "traceback": [
      "\u001b[1;31m---------------------------------------------------------------------------\u001b[0m",
      "\u001b[1;31mTypeError\u001b[0m                                 Traceback (most recent call last)",
      "Cell \u001b[1;32mIn[38], line 3\u001b[0m\n\u001b[0;32m      1\u001b[0m \u001b[38;5;66;03m#use case of tuple--> use tuples where you dont want top modify the data\u001b[39;00m\n\u001b[0;32m      2\u001b[0m empid \u001b[38;5;241m=\u001b[39m(\u001b[38;5;241m1\u001b[39m,\u001b[38;5;241m2\u001b[39m,\u001b[38;5;241m3\u001b[39m,\u001b[38;5;241m4\u001b[39m,\u001b[38;5;241m5\u001b[39m)\n\u001b[1;32m----> 3\u001b[0m \u001b[43mempid\u001b[49m\u001b[43m[\u001b[49m\u001b[38;5;241;43m1\u001b[39;49m\u001b[43m]\u001b[49m \u001b[38;5;241m=\u001b[39m \u001b[38;5;241m100\u001b[39m\n",
      "\u001b[1;31mTypeError\u001b[0m: 'tuple' object does not support item assignment"
     ]
    }
   ],
   "source": [
    "#use case of tuple--> use tuples where you dont want top modify the data\n",
    "empid =(1,2,3,4,5)\n",
    "empid[1] = 100"
   ]
  },
  {
   "cell_type": "code",
   "execution_count": 39,
   "id": "6ac3e6f4-2af4-4875-8d94-d2182e3b3da0",
   "metadata": {},
   "outputs": [],
   "source": [
    "# use case of sets"
   ]
  },
  {
   "cell_type": "code",
   "execution_count": 40,
   "id": "03e94fa7-dedf-4c65-93a2-908256ddd756",
   "metadata": {},
   "outputs": [
    {
     "data": {
      "text/plain": [
       "{1, 2, 3, 4, 5, 6, 45, 56}"
      ]
     },
     "execution_count": 40,
     "metadata": {},
     "output_type": "execute_result"
    }
   ],
   "source": [
    "# 01 Removing Duplicates values\n",
    "s = {1,1,1,1,1,1,1,2,2,2,3,4,4,45,5,56,6,6,6,}\n",
    "s"
   ]
  },
  {
   "cell_type": "code",
   "execution_count": 41,
   "id": "61016fe9-f312-4c31-bcfa-44d0d5a4ec57",
   "metadata": {},
   "outputs": [
    {
     "data": {
      "text/plain": [
       "True"
      ]
     },
     "execution_count": 41,
     "metadata": {},
     "output_type": "execute_result"
    }
   ],
   "source": [
    "# 02 Membership Testing --> to check wheather the element is present or not\n",
    "1 in s"
   ]
  },
  {
   "cell_type": "code",
   "execution_count": 42,
   "id": "75b3dffe-af57-4361-9b93-4237092233fa",
   "metadata": {},
   "outputs": [
    {
     "data": {
      "text/plain": [
       "False"
      ]
     },
     "execution_count": 42,
     "metadata": {},
     "output_type": "execute_result"
    }
   ],
   "source": [
    "2 not in s"
   ]
  },
  {
   "cell_type": "code",
   "execution_count": 43,
   "id": "cc066c99-d067-4dd0-98f6-9ad1226e40bc",
   "metadata": {},
   "outputs": [
    {
     "data": {
      "text/plain": [
       "{1, 2, 3, 4, 5, 6}"
      ]
     },
     "execution_count": 43,
     "metadata": {},
     "output_type": "execute_result"
    }
   ],
   "source": [
    "# 03 Set Operations (Union, Intersection, Difference, Symmetric Difference)\n",
    "# union \n",
    "s1 = {1,2,3,4}\n",
    "s2 = {2,2,3,5,6}\n",
    "s1 | s2"
   ]
  },
  {
   "cell_type": "code",
   "execution_count": 45,
   "id": "93ee55cd-2778-498d-a127-33127d99a2f1",
   "metadata": {},
   "outputs": [
    {
     "data": {
      "text/plain": [
       "{2, 3}"
      ]
     },
     "execution_count": 45,
     "metadata": {},
     "output_type": "execute_result"
    }
   ],
   "source": [
    "# intersection\n",
    "s1 & s2 # return common elements"
   ]
  },
  {
   "cell_type": "code",
   "execution_count": 47,
   "id": "5062d964-664f-42f8-9099-662464786cba",
   "metadata": {},
   "outputs": [
    {
     "data": {
      "text/plain": [
       "{1, 4}"
      ]
     },
     "execution_count": 47,
     "metadata": {},
     "output_type": "execute_result"
    }
   ],
   "source": [
    "# difference \n",
    "s1 - s2 # element present in first set but not in the second set"
   ]
  },
  {
   "cell_type": "code",
   "execution_count": 48,
   "id": "fe06aea9-164b-4c31-82f8-7aa7cd16895f",
   "metadata": {},
   "outputs": [
    {
     "data": {
      "text/plain": [
       "{1, 4, 5, 6}"
      ]
     },
     "execution_count": 48,
     "metadata": {},
     "output_type": "execute_result"
    }
   ],
   "source": [
    "# symmetric difference\n",
    "s1 ^ s2 #returns all the elements other than common elements"
   ]
  },
  {
   "cell_type": "code",
   "execution_count": 49,
   "id": "4da0fee7-62e6-4059-9c1f-a1b1afe5518f",
   "metadata": {},
   "outputs": [],
   "source": [
    "# 07 Describe how to modify, access and delete element in a dictionary with example.\n",
    "\n",
    "# dictionary is a data structure that stores data as key value pairs.\n",
    "# keys are unique and immutable."
   ]
  },
  {
   "cell_type": "code",
   "execution_count": 52,
   "id": "7cb5a829-08c2-4388-b346-e78ab7af5024",
   "metadata": {},
   "outputs": [
    {
     "data": {
      "text/plain": [
       "{'name': 'aagman', 'email': 'at@gmail.com', 'contact': '1234'}"
      ]
     },
     "execution_count": 52,
     "metadata": {},
     "output_type": "execute_result"
    }
   ],
   "source": [
    "d = {\"name\" : \"aagman\",\"email\" : \"at@gmail.com\",\"contact\":\"1234\"}\n",
    "d"
   ]
  },
  {
   "cell_type": "code",
   "execution_count": 54,
   "id": "85ddaff7-fd97-40fd-b354-8a767872c146",
   "metadata": {},
   "outputs": [
    {
     "ename": "KeyError",
     "evalue": "2",
     "output_type": "error",
     "traceback": [
      "\u001b[1;31m---------------------------------------------------------------------------\u001b[0m",
      "\u001b[1;31mKeyError\u001b[0m                                  Traceback (most recent call last)",
      "Cell \u001b[1;32mIn[54], line 2\u001b[0m\n\u001b[0;32m      1\u001b[0m \u001b[38;5;66;03m# Accessing the elements of dictionary\u001b[39;00m\n\u001b[1;32m----> 2\u001b[0m \u001b[43md\u001b[49m\u001b[43m[\u001b[49m\u001b[38;5;241;43m2\u001b[39;49m\u001b[43m]\u001b[49m\n\u001b[0;32m      3\u001b[0m \u001b[38;5;66;03m# we can only access value using key, vice-versa is not  possible\u001b[39;00m\n",
      "\u001b[1;31mKeyError\u001b[0m: 2"
     ]
    }
   ],
   "source": [
    "# Accessing the elements of dictionary\n",
    "d[2]\n",
    "# we can only access value using key, vice-versa is not  possible"
   ]
  },
  {
   "cell_type": "code",
   "execution_count": 55,
   "id": "127b7f39-b1bd-448a-a7f0-5499047b920e",
   "metadata": {},
   "outputs": [
    {
     "data": {
      "text/plain": [
       "'aagman'"
      ]
     },
     "execution_count": 55,
     "metadata": {},
     "output_type": "execute_result"
    }
   ],
   "source": [
    "d[\"name\"]"
   ]
  },
  {
   "cell_type": "code",
   "execution_count": 56,
   "id": "5273c9b9-1771-44b7-8221-2f42de522553",
   "metadata": {},
   "outputs": [
    {
     "data": {
      "text/plain": [
       "{'name': 'Akshat', 'email': 'at@gmail.com', 'contact': '1234'}"
      ]
     },
     "execution_count": 56,
     "metadata": {},
     "output_type": "execute_result"
    }
   ],
   "source": [
    "# modify\n",
    "d[\"name\"] = \"Akshat\"\n",
    "d"
   ]
  },
  {
   "cell_type": "code",
   "execution_count": 57,
   "id": "e1c96e4e-0f03-4cec-a7c3-72a35ef6104b",
   "metadata": {},
   "outputs": [
    {
     "data": {
      "text/plain": [
       "{'name': 'Akshat', 'email': 'at@gmail.com'}"
      ]
     },
     "execution_count": 57,
     "metadata": {},
     "output_type": "execute_result"
    }
   ],
   "source": [
    "# deleting the element\n",
    "del d[\"contact\"]\n",
    "d"
   ]
  },
  {
   "cell_type": "code",
   "execution_count": 60,
   "id": "0cbcc304-7333-4aee-af5b-846abdd8d625",
   "metadata": {},
   "outputs": [],
   "source": [
    "# 08 Discuss the importance of dictionary keys being immutable and provide example.\n",
    "\n",
    "#Dictionary keys must be immutable (e.g., strings, numbers, tuples), because Python uses hash tables for quick lookups.\n",
    "#Mutable keys (e.g., lists) can change, causing their hash value to change, which breaks data integrity and access efficiency.\n",
    "#Immutable keys ensure reliable and efficient dictionary operations."
   ]
  },
  {
   "cell_type": "code",
   "execution_count": 61,
   "id": "85d08b6d-78b6-4e34-8bc6-ea006cc3422d",
   "metadata": {},
   "outputs": [
    {
     "name": "stdout",
     "output_type": "stream",
     "text": [
      "Alice\n"
     ]
    }
   ],
   "source": [
    "# Valid immutable keys\n",
    "my_dict = {\n",
    "    'name': 'Alice',\n",
    "    42: 'Age',\n",
    "    (1, 2): 'Coordinates'\n",
    "}\n",
    "\n",
    "# Invalid mutable keys (uncommenting will raise a TypeError)\n",
    "# my_dict = {[1, 2, 3]: 'List Key'}   # Lists are mutable and cannot be used as keys\n",
    "# my_dict = {{'a': 1}: 'Dict Key'}    # Dictionaries are mutable and cannot be used as keys\n",
    "\n",
    "# Accessing a value using an immutable key\n",
    "print(my_dict['name'])  # Output: Alice\n"
   ]
  },
  {
   "cell_type": "code",
   "execution_count": null,
   "id": "77c21407-ee22-4dbe-8828-ada3c16f93a8",
   "metadata": {},
   "outputs": [],
   "source": []
  }
 ],
 "metadata": {
  "kernelspec": {
   "display_name": "Python 3 (ipykernel)",
   "language": "python",
   "name": "python3"
  },
  "language_info": {
   "codemirror_mode": {
    "name": "ipython",
    "version": 3
   },
   "file_extension": ".py",
   "mimetype": "text/x-python",
   "name": "python",
   "nbconvert_exporter": "python",
   "pygments_lexer": "ipython3",
   "version": "3.12.3"
  }
 },
 "nbformat": 4,
 "nbformat_minor": 5
}
